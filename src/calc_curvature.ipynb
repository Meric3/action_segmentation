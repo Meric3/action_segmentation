{
 "cells": [
  {
   "cell_type": "code",
   "execution_count": 2,
   "metadata": {},
   "outputs": [
    {
     "name": "stdout",
     "output_type": "stream",
     "text": [
      "Device: cuda:0\n"
     ]
    }
   ],
   "source": [
    "import torch\n",
    "import torch.nn as nn\n",
    "import torch.nn.functional as F\n",
    "import torch.optim as optim\n",
    "\n",
    "import random\n",
    "import os\n",
    "import numpy as np\n",
    "import seaborn as sns\n",
    "import matplotlib.pyplot as plt\n",
    "\n",
    "\n",
    "from main import set_path\n",
    "from model import MS_TCN, SS_TCN\n",
    "from Generator import MSTCN_gen\n",
    "from torch.autograd import Variable\n",
    "from torch.utils.data import DataLoader, Dataset, TensorDataset\n",
    "\n",
    "\n",
    "from trainer import triplet_trainer\n",
    "import time\n",
    "\n",
    "\n",
    "import bezier\n",
    "from bezier.hazmat.curve_helpers import evaluate_hodograph, get_curvature\n",
    "from sklearn.preprocessing import minmax_scale\n",
    "\n",
    "## Set GPU device ##\n",
    "GPU    = 0\n",
    "device = torch.device(f\"cuda:{GPU}\" if torch.cuda.is_available() else \"cpu\")\n",
    "seed   = 1538574472\n",
    "random.seed(seed)\n",
    "torch.manual_seed(seed)\n",
    "torch.cuda.manual_seed_all(seed)\n",
    "torch.backends.cudnn.deterministic = True\n",
    "print(\"Device:\", device)"
   ]
  },
  {
   "cell_type": "code",
   "execution_count": 47,
   "metadata": {},
   "outputs": [],
   "source": [
    "def get_actiondict(mapping_file):\n",
    "    actions_dict = {}\n",
    "    with open(mapping_file, 'r') as f:\n",
    "        actions = f.read().split('\\n')[:-1]\n",
    "    for a in actions:\n",
    "        actions_dict[a.split()[1]] = int(a.split()[0])\n",
    "        \n",
    "    return actions_dict\n",
    "\n",
    "## Set Basic Things ##\n",
    "action       = 'curvature'\n",
    "dataset      = 'gtea'\n",
    "mapping_file = f'../data/{dataset}/mapping.txt'\n",
    "actions_dict = get_actiondict(mapping_file)\n",
    "num_classes  = len(actions_dict)\n",
    "batch_size   = 1\n",
    "split        = '4'\n",
    "op           = 'residual'\n",
    "method       = 'triplet_9'\n",
    "step         = int(method.split('_')[-1]) if method != 'triplet' else 10\n",
    "\n",
    "margin = 10.\n",
    "lr = 0.005\n",
    "num_epochs = 500\n",
    "if dataset  == \"50salads\": sample_rate = 2\n",
    "else: sample_rate=1"
   ]
  },
  {
   "cell_type": "code",
   "execution_count": 48,
   "metadata": {},
   "outputs": [],
   "source": [
    "# if not os.path.isdir(f'./{method}_{dataset}'): \n",
    "#                      os.mkdir(f'./{method}_{dataset}')\n",
    "vid_list_file, features_path, gt_path, _, _, _ = set_path(dataset, 'test', '4', op, method)\n",
    "batch_gen = MSTCN_gen(num_classes, actions_dict, gt_path, features_path, sample_rate, method)\n",
    "batch_gen.read_data(vid_list_file)\n",
    "trainer = triplet_trainer(action, actions_dict, batch_gen, margin, lr)"
   ]
  },
  {
   "cell_type": "code",
   "execution_count": 49,
   "metadata": {},
   "outputs": [
    {
     "name": "stdout",
     "output_type": "stream",
     "text": [
      "1 S4_CofHoney_C1\tSave the curvature of step:9 on ../data/gtea/triplet_9/S4_CofHoney_C1.npy\n",
      "2 S4_Coffee_C1\tSave the curvature of step:9 on ../data/gtea/triplet_9/S4_Coffee_C1.npy\n",
      "3 S4_Tea_C1\tSave the curvature of step:9 on ../data/gtea/triplet_9/S4_Tea_C1.npy\n",
      "4 S4_Pealate_C1\tSave the curvature of step:9 on ../data/gtea/triplet_9/S4_Pealate_C1.npy\n",
      "5 S4_Cheese_C1\tSave the curvature of step:9 on ../data/gtea/triplet_9/S4_Cheese_C1.npy\n",
      "6 S4_Hotdog_C1\tSave the curvature of step:9 on ../data/gtea/triplet_9/S4_Hotdog_C1.npy\n",
      "7 S4_Peanut_C1\tSave the curvature of step:9 on ../data/gtea/triplet_9/S4_Peanut_C1.npy\n"
     ]
    }
   ],
   "source": [
    "trainer.save_curvature(dataset, batch_gen, step, device)"
   ]
  }
 ],
 "metadata": {
  "kernelspec": {
   "display_name": "ms-tcn",
   "language": "python",
   "name": "ms-tcn"
  },
  "language_info": {
   "codemirror_mode": {
    "name": "ipython",
    "version": 3
   },
   "file_extension": ".py",
   "mimetype": "text/x-python",
   "name": "python",
   "nbconvert_exporter": "python",
   "pygments_lexer": "ipython3",
   "version": "3.7.10"
  }
 },
 "nbformat": 4,
 "nbformat_minor": 4
}
